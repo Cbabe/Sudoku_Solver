{
 "cells": [
  {
   "cell_type": "code",
   "execution_count": 38,
   "metadata": {},
   "outputs": [
    {
     "name": "stdout",
     "output_type": "stream",
     "text": [
      "range(0, 3)\n",
      "[9, 5, 4, 3, 6, 2, 1, 8, 7]\n",
      "[2, 6, 3, 7, 8, 1, 9, 5, 4]\n",
      "[1, 8, 7, 4, 5, 9, 2, 6, 3]\n",
      "[4, 9, 6, 8, 2, 3, 7, 1, 5]\n",
      "[3, 2, 8, 5, 1, 7, 4, 9, 6]\n",
      "[7, 1, 5, 6, 9, 4, 3, 2, 8]\n",
      "[6, 4, 2, 1, 3, 8, 5, 7, 9]\n",
      "[5, 7, 9, 2, 4, 6, 8, 3, 1]\n",
      "[8, 3, 1, 9, 7, 5, 6, 4, 2]\n"
     ]
    }
   ],
   "source": [
    "base  = 3\n",
    "side  = base*base\n",
    "\n",
    "def pattern(row,col): return (base*(row%base)+row//base+col)%side\n",
    "\n",
    "from random import sample\n",
    "def shuffle(s): return sample(s,len(s)) \n",
    "rBase = range(base) \n",
    "print(rBase)\n",
    "rows  = [ g*base + row for g in shuffle(rBase) for row in shuffle(rBase) ] \n",
    "cols  = [ g*base + col for g in shuffle(rBase) for col in shuffle(rBase) ]\n",
    "nums  = shuffle(range(1,base*base+1))\n",
    "\n",
    "board = [ [nums[pattern(row,col)] for col in cols] for row in rows ]\n",
    "\n",
    "for line in board: print(line)"
   ]
  },
  {
   "cell_type": "code",
   "execution_count": 39,
   "metadata": {},
   "outputs": [
    {
     "name": "stdout",
     "output_type": "stream",
     "text": [
      "_  _  _  _  _  _  _  _  _ \n",
      "_  _  _  _  _  1  _  _  _ \n",
      "_  _  _  _  5  9  _  _  3 \n",
      "_  _  _  8  _  _  _  _  _ \n",
      "_  _  _  _  _  _  _  _  _ \n",
      "_  1  5  _  9  4  _  _  _ \n",
      "6  4  _  _  _  _  5  _  _ \n",
      "_  _  _  _  4  _  8  _  _ \n",
      "_  3  _  9  _  _  _  _  2 \n"
     ]
    }
   ],
   "source": [
    "squares = side*side\n",
    "empties = squares * 64//81\n",
    "for p in sample(range(squares),empties):\n",
    "    board[p//side][p%side] = 0\n",
    "\n",
    "numSize = len(str(side))\n",
    "for line in board:\n",
    "    print(*(f\"{n or '_':{numSize}} \" for n in line))"
   ]
  }
 ],
 "metadata": {
  "kernelspec": {
   "display_name": "Python 3.9.7 ('base')",
   "language": "python",
   "name": "python3"
  },
  "language_info": {
   "codemirror_mode": {
    "name": "ipython",
    "version": 3
   },
   "file_extension": ".py",
   "mimetype": "text/x-python",
   "name": "python",
   "nbconvert_exporter": "python",
   "pygments_lexer": "ipython3",
   "version": "3.9.7"
  },
  "orig_nbformat": 4,
  "vscode": {
   "interpreter": {
    "hash": "215e38ef8319e1cae6b3dde5700c3b8f4291d7f7fc9767af33ad694aef458a78"
   }
  }
 },
 "nbformat": 4,
 "nbformat_minor": 2
}
